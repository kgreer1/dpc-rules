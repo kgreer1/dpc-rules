{
 "cells": [
  {
   "cell_type": "code",
   "execution_count": 1,
   "id": "standing-representative",
   "metadata": {},
   "outputs": [
    {
     "name": "stdout",
     "output_type": "stream",
     "text": [
      "Connected to Spark!\n"
     ]
    }
   ],
   "source": [
    "import os; import sys; import re\n",
    "\n",
    "# common spark import\n",
    "from pyspark import SparkFiles\n",
    "from pyspark.sql import SparkSession\n",
    "from pyspark.sql import functions as f\n",
    "from pyspark.sql.window import Window\n",
    "from pyspark.sql.types import StructType, StructField, StringType, IntegerType, BooleanType\n",
    "\n",
    "# connect to spark if we haven't already\n",
    "if not 'spark' in locals():\n",
    "  spark = SparkSession.builder \\\n",
    "      .master(\"local[*]\") \\\n",
    "      .appName('development') \\\n",
    "      .config(\"spark.sql.debug.maxToStringFields\", str(1024 * 1024)) \\\n",
    "      .getOrCreate()\n",
    "  sc = spark.sparkContext\n",
    "\n",
    "print(\"Connected to Spark!\")"
   ]
  },
  {
   "cell_type": "code",
   "execution_count": 2,
   "id": "exceptional-dairy",
   "metadata": {},
   "outputs": [],
   "source": [
    "columns = [\"address_line_1\", \"address_line_2\", \"expected_dpc\"]\n",
    "data = [(\"PO BOX 44\", None, \"44\"),\n",
    "        (\"44 PO BOX\", None, \"44\"),\n",
    "        (\"RR 1 BOX 154\", None, \"54\"), \n",
    "        (\"HC 1 BOX 1264\", None, \"64\"),\n",
    "        (\"HC 1\", None, \"99\"),\n",
    "        (\"RR 1 Box 2\", None, \"02\"),\n",
    "        (\"RR 1 Box 154A\", None, \"54\"),\n",
    "        (\"HC 1 Box AB\", None, \"99\"),\n",
    "        (\"1234 Main St\", None, \"34\"),\n",
    "        (\"RR 1 BOX 1.23\", None, \"23\"),\n",
    "        (\"A Main St\", None, \"99\"),\n",
    "        (\"PO Box AA\", None, \"99\"),\n",
    "        (\"8 MAIN St\", None, \"08\"),\n",
    "        (\"N6845 Dan Way\", None, \"45\"),\n",
    "        (\"23S4 MAIN ST\", None, \"04\"),\n",
    "        (\"1550 Ridge Way\", \"APT 13\", \"13\"),\n",
    "        (\"75 Joseph Ave\", None, \"75\"),\n",
    "        (\"1950 N Point Blvd\", None, \"50\"),\n",
    "        (\"HC 3 BOX 11*7\", None, \"07\"),\n",
    "        (\"1.23 MAIN ST\", None, \"23\"),\n",
    "        (\"23S41 MAIN ST\", None, \"41\"),\n",
    "        (\"W3S1 MAIN ST\", None, \"01\"),\n",
    "        (\"PO Box 1-3\", None, \"03\")]\n",
    "\n",
    "df_test = spark.createDataFrame(data = data, schema = columns)"
   ]
  },
  {
   "cell_type": "code",
   "execution_count": 3,
   "id": "becoming-andrews",
   "metadata": {
    "scrolled": true
   },
   "outputs": [
    {
     "name": "stdout",
     "output_type": "stream",
     "text": [
      "+-----------------+--------------+------------+\n",
      "|   address_line_1|address_line_2|expected_dpc|\n",
      "+-----------------+--------------+------------+\n",
      "|        PO BOX 44|          null|          44|\n",
      "|        44 PO BOX|          null|          44|\n",
      "|     RR 1 BOX 154|          null|          54|\n",
      "|    HC 1 BOX 1264|          null|          64|\n",
      "|             HC 1|          null|          99|\n",
      "|       RR 1 Box 2|          null|          02|\n",
      "|    RR 1 Box 154A|          null|          54|\n",
      "|      HC 1 Box AB|          null|          99|\n",
      "|     1234 Main St|          null|          34|\n",
      "|    RR 1 BOX 1.23|          null|          23|\n",
      "|        A Main St|          null|          99|\n",
      "|        PO Box AA|          null|          99|\n",
      "|        8 MAIN St|          null|          08|\n",
      "|    N6845 Dan Way|          null|          45|\n",
      "|     23S4 MAIN ST|          null|          04|\n",
      "|   1550 Ridge Way|        APT 13|          13|\n",
      "|    75 Joseph Ave|          null|          75|\n",
      "|1950 N Point Blvd|          null|          50|\n",
      "|    HC 3 BOX 11*7|          null|          07|\n",
      "|     1.23 MAIN ST|          null|          23|\n",
      "|    23S41 MAIN ST|          null|          41|\n",
      "|     W3S1 MAIN ST|          null|          01|\n",
      "|       PO Box 1-3|          null|          03|\n",
      "+-----------------+--------------+------------+\n",
      "\n"
     ]
    }
   ],
   "source": [
    "df_test.show(30)"
   ]
  },
  {
   "cell_type": "code",
   "execution_count": null,
   "id": "fifteen-prototype",
   "metadata": {},
   "outputs": [],
   "source": [
    "#df = df_test.withColumn('housenumber', (f.regexp_extract(f.col('address_line_1'),'(^[0-9]([0-9A-Z.*-]+)?)', 1)))\n",
    "#df.show()"
   ]
  },
  {
   "cell_type": "code",
   "execution_count": null,
   "id": "different-noise",
   "metadata": {},
   "outputs": [],
   "source": [
    "#df = df.withColumn('boxnumber', (f.regexp_extract(f.col('address_line_1'),'([Bb][Oo][Xx]\\s)([0-9]+[0-9A-Z.*-]*)', 2)))\n",
    "#df.show()"
   ]
  },
  {
   "cell_type": "code",
   "execution_count": null,
   "id": "distinguished-referral",
   "metadata": {},
   "outputs": [],
   "source": [
    "#df.filter(df.address_line_1.rlike('^[A-Z]')).limit(10).toPandas()"
   ]
  },
  {
   "cell_type": "code",
   "execution_count": 4,
   "id": "electoral-garden",
   "metadata": {},
   "outputs": [],
   "source": [
    "def blanks_to_null(x):\n",
    "    return f.when(f.col(x) != \"\", f.col(x)).otherwise(None)"
   ]
  },
  {
   "cell_type": "code",
   "execution_count": 5,
   "id": "medieval-costume",
   "metadata": {},
   "outputs": [],
   "source": [
    "def house_number_extract(df):\n",
    "    #make address_line_1 all uppercase\n",
    "    df = df.withColumn('address_line_1', f.upper('address_line_1'))\n",
    "    \n",
    "    #extract house number or box number into column housenumber\n",
    "    df = df.withColumn('housenumber',\n",
    "                      f.when(\n",
    "                          f.col('address_line_1').rlike('^[A-Z]{2}'),\n",
    "                          f.regexp_extract(f.col('address_line_1'),'(BOX\\\\s)([0-9]+[0-9A-Z.*-]*)', 2))\n",
    "                       .otherwise(f.regexp_extract(f.col('address_line_1'),'^([A-Z]*[0-9]+[0-9A-Z.*-]*)', 1)))\n",
    "    return df"
   ]
  },
  {
   "cell_type": "code",
   "execution_count": 6,
   "id": "democratic-commission",
   "metadata": {},
   "outputs": [
    {
     "name": "stdout",
     "output_type": "stream",
     "text": [
      "+-----------------+--------------+------------+-----------+\n",
      "|   address_line_1|address_line_2|expected_dpc|housenumber|\n",
      "+-----------------+--------------+------------+-----------+\n",
      "|        PO BOX 44|          null|          44|         44|\n",
      "|        44 PO BOX|          null|          44|         44|\n",
      "|     RR 1 BOX 154|          null|          54|        154|\n",
      "|    HC 1 BOX 1264|          null|          64|       1264|\n",
      "|             HC 1|          null|          99|           |\n",
      "|       RR 1 BOX 2|          null|          02|          2|\n",
      "|    RR 1 BOX 154A|          null|          54|       154A|\n",
      "|      HC 1 BOX AB|          null|          99|           |\n",
      "|     1234 MAIN ST|          null|          34|       1234|\n",
      "|    RR 1 BOX 1.23|          null|          23|       1.23|\n",
      "|        A MAIN ST|          null|          99|           |\n",
      "|        PO BOX AA|          null|          99|           |\n",
      "|        8 MAIN ST|          null|          08|          8|\n",
      "|    N6845 DAN WAY|          null|          45|      N6845|\n",
      "|     23S4 MAIN ST|          null|          04|       23S4|\n",
      "|   1550 RIDGE WAY|        APT 13|          13|       1550|\n",
      "|    75 JOSEPH AVE|          null|          75|         75|\n",
      "|1950 N POINT BLVD|          null|          50|       1950|\n",
      "|    HC 3 BOX 11*7|          null|          07|       11*7|\n",
      "|     1.23 MAIN ST|          null|          23|       1.23|\n",
      "|    23S41 MAIN ST|          null|          41|      23S41|\n",
      "|     W3S1 MAIN ST|          null|          01|       W3S1|\n",
      "|       PO BOX 1-3|          null|          03|        1-3|\n",
      "+-----------------+--------------+------------+-----------+\n",
      "\n"
     ]
    }
   ],
   "source": [
    "df_test = house_number_extract(df_test)\n",
    "df_test.show(30)"
   ]
  },
  {
   "cell_type": "code",
   "execution_count": null,
   "id": "double-sheet",
   "metadata": {},
   "outputs": [],
   "source": [
    "# run blank function on 'housenumber' column to replace blanks with 'None'.\n",
    "df_test = df_test.withColumn('housenumber', blanks_to_null('housenumber'))\n",
    "df_test.show(30)"
   ]
  },
  {
   "cell_type": "code",
   "execution_count": null,
   "id": "shaped-biology",
   "metadata": {},
   "outputs": [],
   "source": []
  },
  {
   "cell_type": "code",
   "execution_count": null,
   "id": "charming-ordinary",
   "metadata": {},
   "outputs": [],
   "source": [
    "#rule1\n",
    "df_test = df_test.withColumn('dpc', \n",
    "        f.when(\n",
    "            f.col('address_line_2').isNull() &\n",
    "            f.col('housenumber').isNotNull() & \n",
    "            f.col('housenumber').rlike('^[0-9]*$'),\n",
    "            f.col('housenumber').substr(-2,2)))\n",
    "df_test.show(30)"
   ]
  },
  {
   "cell_type": "code",
   "execution_count": null,
   "id": "inappropriate-fellow",
   "metadata": {},
   "outputs": [],
   "source": [
    "#rule5\n",
    "df_test = df_test.withColumn('dpc', \n",
    "              f.when(\n",
    "                   f.col('address_line_2').isNull() &\n",
    "                   f.col('housenumber').isNotNull() & \n",
    "                   f.col('dpc').isNull() &\n",
    "                   #f.col('housenumber').rlike('^[a-zA-Z0-9]*$'),\n",
    "                   f.col('housenumber').rlike('^[0-9]+[A-Z]+$'),\n",
    "                   f.regexp_extract(f.col('housenumber'),'(\\d+)',1).substr(-2,2)).otherwise(f.col('dpc')))\n",
    "df_test.show(30)"
   ]
  },
  {
   "cell_type": "code",
   "execution_count": null,
   "id": "imported-irish",
   "metadata": {},
   "outputs": [],
   "source": []
  },
  {
   "cell_type": "code",
   "execution_count": null,
   "id": "possible-validation",
   "metadata": {},
   "outputs": [],
   "source": []
  },
  {
   "cell_type": "code",
   "execution_count": null,
   "id": "forbidden-speed",
   "metadata": {},
   "outputs": [],
   "source": [
    "#rule8\n",
    "\n",
    "# create new column that selects the first word from the address_line_1 string\n",
    "df_test = df_test.withColumn('alphas', (f.regexp_extract(f.col('address_line_1'),'(^[A-Z0-9]+[0-9]\\\\w)', 1)))\n",
    "    \n",
    "# update dpc when alphas contains a value, add_line_2 is null and dpc is null\n",
    "df_test = df_test.withColumn('dpc', \n",
    "        f.when(\n",
    "            f.col('alphas').isNotNull() &\n",
    "            f.col('address_line_2').isNull() &\n",
    "            f.col('dpc').isNull(),\n",
    "            f.regexp_extract(f.col('alphas'),'([0-9]{1,2}$)',1)).otherwise(f.col('dpc')))\n",
    "\n",
    "df_test = df_test.withColumn('dpc', blanks_to_null('dpc'))\n",
    "\n",
    "df_test.show(30)"
   ]
  },
  {
   "cell_type": "code",
   "execution_count": null,
   "id": "clear-button",
   "metadata": {},
   "outputs": [],
   "source": []
  },
  {
   "cell_type": "code",
   "execution_count": null,
   "id": "damaged-designer",
   "metadata": {},
   "outputs": [],
   "source": [
    "#rule10\n",
    "df_test = df_test.withColumn('dpc', \n",
    "            f.when(\n",
    "                #This specifies that if 'dpc' is not null, then that value should be retained.\n",
    "                f.col('dpc').isNotNull(),\n",
    "                f.col('dpc'))\n",
    "                             .otherwise(f.regexp_extract(f.col('housenumber'), '([0-9]+)([.*-])([0-9]+)', 3)))\n",
    "\n",
    "df_test = df_test.withColumn('dpc', blanks_to_null('dpc'))\n",
    "\n",
    "df_test.show(30)"
   ]
  },
  {
   "cell_type": "code",
   "execution_count": null,
   "id": "confused-bosnia",
   "metadata": {},
   "outputs": [],
   "source": [
    "#rule13\n",
    "df_test = df_test.withColumn('dpc', f.coalesce(f.col('dpc'), f.lit('99')))\n",
    "df_test.show(30)"
   ]
  },
  {
   "cell_type": "code",
   "execution_count": null,
   "id": "worldwide-billion",
   "metadata": {},
   "outputs": [],
   "source": [
    "#rule3\n",
    "df_test = df_test.withColumn('dpc', f.lpad('dpc', 2, '0'))\n",
    "df_test.show(30)"
   ]
  },
  {
   "cell_type": "code",
   "execution_count": null,
   "id": "patient-hybrid",
   "metadata": {},
   "outputs": [],
   "source": []
  }
 ],
 "metadata": {
  "kernelspec": {
   "display_name": "Python 3",
   "language": "python",
   "name": "python3"
  },
  "language_info": {
   "codemirror_mode": {
    "name": "ipython",
    "version": 3
   },
   "file_extension": ".py",
   "mimetype": "text/x-python",
   "name": "python",
   "nbconvert_exporter": "python",
   "pygments_lexer": "ipython3",
   "version": "3.8.6"
  }
 },
 "nbformat": 4,
 "nbformat_minor": 5
}
